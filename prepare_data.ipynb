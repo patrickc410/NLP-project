{
 "cells": [
  {
   "cell_type": "code",
   "execution_count": 1,
   "metadata": {},
   "outputs": [],
   "source": [
    "import os\n",
    "import pandas as pd"
   ]
  },
  {
   "cell_type": "code",
   "execution_count": 15,
   "metadata": {},
   "outputs": [],
   "source": [
    "data_path = './data/manual_annotate/jwydra_100_105'\n",
    "output_path = os.path.join(data_path, 'training_data.csv')\n",
    "\n",
    "stanza_path = './data/stanza_annotate/dev_annotations.jsonl'\n",
    "\n",
    "subj_path = os.path.join(data_path, 'dev_annotations_subj.jsonl')\n",
    "verb_path = os.path.join(data_path, 'dev_annotations_verb.jsonl')\n",
    "obj_path = os.path.join(data_path, 'dev_annotations_obj.jsonl')\n",
    "\n",
    "apv_path = os.path.join(data_path, 'dev_annotations_active.jsonl')\n",
    "scv_path = os.path.join(data_path, 'dev_annotations_simple_verb.jsonl')\n",
    "hv_path = os.path.join(data_path, 'dev_annotations_no_hidden_verb.jsonl')"
   ]
  },
  {
   "cell_type": "code",
   "execution_count": 21,
   "metadata": {},
   "outputs": [
    {
     "name": "stdout",
     "output_type": "stream",
     "text": [
      "['It has been announced that it will be picking up two new shows, \"Halt & Catch Fire\" and \"Turn\", two period dramas that will be airing in 2014.'\n",
      " 'This year, the only new show is \"Mob City\", a scripted show about the Los Angeles Police Department.'\n",
      " 'AMCTV.com is an website provides special features for users, such as the airing schedule, blogs, videos, games.'\n",
      " 'This online feature allows viewers to see what date and time shows are airing, as well as when new episodes will be available.'\n",
      " 'Another the schedule allows users to do, is know when AMC movies will be airing.']\n"
     ]
    }
   ],
   "source": [
    "sent_indices = list(pd.read_json(subj_path, lines=True, orient=\"records\")['sent-index'])\n",
    "stanza_df = pd.read_json(stanza_path, lines=True, orient=\"records\")\n",
    "sentences = stanza_df[stanza_df['sent-index'].isin(sent_indices)]['sent'].values\n",
    "\n",
    "print(sentences)"
   ]
  },
  {
   "cell_type": "code",
   "execution_count": 3,
   "metadata": {},
   "outputs": [
    {
     "name": "stdout",
     "output_type": "stream",
     "text": [
      "[9, 5, 7, 11, 7]\n"
     ]
    }
   ],
   "source": [
    "subj_df = pd.read_json(subj_path, lines=True, orient=\"records\")\n",
    "verb_df = pd.read_json(verb_path, lines=True, orient=\"records\")\n",
    "obj_df = pd.read_json(obj_path, lines=True, orient=\"records\")\n",
    "\n",
    "subj_data = list(subj_df['subj_manual'])\n",
    "verb_data = list(verb_df['verb_manual'])\n",
    "obj_data = list(obj_df['obj_manual'])\n",
    "\n",
    "svo_dists = list()\n",
    "for s, v, o in zip(subj_data, verb_data, obj_data):\n",
    "    dist = abs(max([i for _, i in o]) - min([i for _, i in s]))\n",
    "    svo_dists.append(dist)\n",
    "    \n",
    "print(svo_dists)"
   ]
  },
  {
   "cell_type": "code",
   "execution_count": 5,
   "metadata": {},
   "outputs": [
    {
     "name": "stdout",
     "output_type": "stream",
     "text": [
      "[0, 1, 1, 1, 1]\n"
     ]
    }
   ],
   "source": [
    "# 0 = 'passive' 1 = 'active' -1 = '<DON'T KNOW>'\n",
    "apv_df = pd.read_json(apv_path, lines=True, orient=\"records\")\n",
    "apv_data = list(apv_df['active_voice_manual'])\n",
    "\n",
    "print(apv_data)"
   ]
  },
  {
   "cell_type": "code",
   "execution_count": 7,
   "metadata": {},
   "outputs": [
    {
     "name": "stdout",
     "output_type": "stream",
     "text": [
      "[0, 1, 1, 1, 1]\n"
     ]
    }
   ],
   "source": [
    "# 0 = 'not simplest form of verb' 1 = 'simple verb' -1 = '<DON'T KNOW>'\n",
    "scv_df = pd.read_json(scv_path, lines=True, orient=\"records\")\n",
    "scv_data = list(scv_df['simple_verb_manual'])\n",
    "\n",
    "print(scv_data)"
   ]
  },
  {
   "cell_type": "code",
   "execution_count": 9,
   "metadata": {},
   "outputs": [
    {
     "name": "stdout",
     "output_type": "stream",
     "text": [
      "[1, 1, 1, 1, 1]\n"
     ]
    }
   ],
   "source": [
    "# 0 = 'hidden verb(s)' 1 = 'no hidden verbs' -1 = '<DON'T KNOW>'\n",
    "hv_df = pd.read_json(hv_path, lines=True, orient=\"records\")\n",
    "hv_data = list(hv_df['no_hidden_verb_manual'])\n",
    "\n",
    "print(hv_data)"
   ]
  },
  {
   "cell_type": "code",
   "execution_count": 22,
   "metadata": {},
   "outputs": [
    {
     "data": {
      "text/html": [
       "<div>\n",
       "<style scoped>\n",
       "    .dataframe tbody tr th:only-of-type {\n",
       "        vertical-align: middle;\n",
       "    }\n",
       "\n",
       "    .dataframe tbody tr th {\n",
       "        vertical-align: top;\n",
       "    }\n",
       "\n",
       "    .dataframe thead th {\n",
       "        text-align: right;\n",
       "    }\n",
       "</style>\n",
       "<table border=\"1\" class=\"dataframe\">\n",
       "  <thead>\n",
       "    <tr style=\"text-align: right;\">\n",
       "      <th></th>\n",
       "      <th>sent</th>\n",
       "      <th>svo_dist</th>\n",
       "      <th>apv</th>\n",
       "      <th>scv</th>\n",
       "      <th>hv</th>\n",
       "    </tr>\n",
       "  </thead>\n",
       "  <tbody>\n",
       "    <tr>\n",
       "      <th>0</th>\n",
       "      <td>It has been announced that it will be picking ...</td>\n",
       "      <td>9</td>\n",
       "      <td>0</td>\n",
       "      <td>0</td>\n",
       "      <td>1</td>\n",
       "    </tr>\n",
       "    <tr>\n",
       "      <th>1</th>\n",
       "      <td>This year, the only new show is \"Mob City\", a ...</td>\n",
       "      <td>5</td>\n",
       "      <td>1</td>\n",
       "      <td>1</td>\n",
       "      <td>1</td>\n",
       "    </tr>\n",
       "    <tr>\n",
       "      <th>2</th>\n",
       "      <td>AMCTV.com is an website provides special featu...</td>\n",
       "      <td>7</td>\n",
       "      <td>1</td>\n",
       "      <td>1</td>\n",
       "      <td>1</td>\n",
       "    </tr>\n",
       "    <tr>\n",
       "      <th>3</th>\n",
       "      <td>This online feature allows viewers to see what...</td>\n",
       "      <td>11</td>\n",
       "      <td>1</td>\n",
       "      <td>1</td>\n",
       "      <td>1</td>\n",
       "    </tr>\n",
       "    <tr>\n",
       "      <th>4</th>\n",
       "      <td>Another the schedule allows users to do, is kn...</td>\n",
       "      <td>7</td>\n",
       "      <td>1</td>\n",
       "      <td>1</td>\n",
       "      <td>1</td>\n",
       "    </tr>\n",
       "  </tbody>\n",
       "</table>\n",
       "</div>"
      ],
      "text/plain": [
       "                                                sent  svo_dist  apv  scv  hv\n",
       "0  It has been announced that it will be picking ...         9    0    0   1\n",
       "1  This year, the only new show is \"Mob City\", a ...         5    1    1   1\n",
       "2  AMCTV.com is an website provides special featu...         7    1    1   1\n",
       "3  This online feature allows viewers to see what...        11    1    1   1\n",
       "4  Another the schedule allows users to do, is kn...         7    1    1   1"
      ]
     },
     "execution_count": 22,
     "metadata": {},
     "output_type": "execute_result"
    }
   ],
   "source": [
    "training_data = pd.DataFrame(list(zip(sentences, svo_dists, apv_data, scv_data, hv_data)),\n",
    "                             columns=['sent', 'svo_dist', 'apv', 'scv', 'hv'])\n",
    "\n",
    "training_data.to_csv(output_path)\n",
    "training_data.head()"
   ]
  }
 ],
 "metadata": {
  "kernelspec": {
   "display_name": "Python 3.10.6 ('nlp_proj')",
   "language": "python",
   "name": "python3"
  },
  "language_info": {
   "codemirror_mode": {
    "name": "ipython",
    "version": 3
   },
   "file_extension": ".py",
   "mimetype": "text/x-python",
   "name": "python",
   "nbconvert_exporter": "python",
   "pygments_lexer": "ipython3",
   "version": "3.10.6"
  },
  "orig_nbformat": 4,
  "vscode": {
   "interpreter": {
    "hash": "a1c228fb18ddb4fe096bf09c2f50081f787d7e8897de9de00e7c4fb916031bd7"
   }
  }
 },
 "nbformat": 4,
 "nbformat_minor": 2
}

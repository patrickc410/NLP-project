{
 "cells": [
  {
   "cell_type": "markdown",
   "metadata": {},
   "source": [
    "# Setup"
   ]
  },
  {
   "cell_type": "code",
   "execution_count": 18,
   "metadata": {},
   "outputs": [],
   "source": [
    "import numpy as np\n",
    "import pandas as pd\n",
    "from sklearn.linear_model import LogisticRegression, Ridge\n",
    "from sklearn.feature_extraction.text import TfidfVectorizer, CountVectorizer\n",
    "from torch.utils.data import random_split\n",
    "import torch\n",
    "from sklearn.metrics import (\n",
    "    confusion_matrix, \n",
    "    f1_score, \n",
    "    accuracy_score, \n",
    "    recall_score,\n",
    "    precision_score,\n",
    "    mean_squared_error, \n",
    "    mean_absolute_error, \n",
    "    r2_score\n",
    ")\n",
    "import seaborn as sns\n",
    "import logging\n",
    "import json\n",
    "logging.getLogger().setLevel(logging.INFO)"
   ]
  },
  {
   "cell_type": "code",
   "execution_count": 20,
   "metadata": {},
   "outputs": [],
   "source": [
    "# CONFIGURATION\n",
    "random_seed = 42\n",
    "data_filepath = \"./data/train_auto_annotations_UPDATED_cleaned2.csv\"\n",
    "model_params = dict()\n",
    "label_cols = [\"svo_dist\", \"svo_dist_norm\", \"apv\", \"scv\", \"hv\", \"svo_dist_norm_disc5\", \"svo_dist_norm_disc20\", \"svo_dist_norm_disc20\"]\n",
    "tasks = [\"regression\", \"regression\", \"classification\", \"classification\", \"classification\", \"classification\", \"classification\", \"classification\"]\n",
    "num_classes_list = [1, 1, 3, 3, 3, 5, 10, 20]\n",
    "sent_col = \"sent_cleaned\""
   ]
  },
  {
   "cell_type": "markdown",
   "metadata": {},
   "source": [
    "# Load Data"
   ]
  },
  {
   "cell_type": "code",
   "execution_count": 21,
   "metadata": {},
   "outputs": [
    {
     "data": {
      "text/plain": [
       "(31740, 13)"
      ]
     },
     "execution_count": 21,
     "metadata": {},
     "output_type": "execute_result"
    }
   ],
   "source": [
    "df = pd.read_csv(data_filepath, index_col=0)\n",
    "df.head()\n",
    "df.shape"
   ]
  },
  {
   "cell_type": "code",
   "execution_count": 22,
   "metadata": {},
   "outputs": [
    {
     "data": {
      "text/plain": [
       "Index(['sent-index', 'sent', 'svo_dist', 'apv', 'scv', 'hv', 'svo_dist_norm',\n",
       "       'svo_dist_norm_disc5', 'svo_dist_norm_disc10', 'svo_dist_norm_disc20',\n",
       "       'sent_cleaned', 'tokens', 'sent_lemm'],\n",
       "      dtype='object')"
      ]
     },
     "execution_count": 22,
     "metadata": {},
     "output_type": "execute_result"
    }
   ],
   "source": [
    "df.columns"
   ]
  },
  {
   "cell_type": "markdown",
   "metadata": {},
   "source": [
    "# Data Preprocess"
   ]
  },
  {
   "cell_type": "code",
   "execution_count": 23,
   "metadata": {},
   "outputs": [
    {
     "data": {
      "text/html": [
       "<div>\n",
       "<style scoped>\n",
       "    .dataframe tbody tr th:only-of-type {\n",
       "        vertical-align: middle;\n",
       "    }\n",
       "\n",
       "    .dataframe tbody tr th {\n",
       "        vertical-align: top;\n",
       "    }\n",
       "\n",
       "    .dataframe thead th {\n",
       "        text-align: right;\n",
       "    }\n",
       "</style>\n",
       "<table border=\"1\" class=\"dataframe\">\n",
       "  <thead>\n",
       "    <tr style=\"text-align: right;\">\n",
       "      <th></th>\n",
       "      <th>sent-index</th>\n",
       "      <th>sent</th>\n",
       "      <th>svo_dist</th>\n",
       "      <th>apv</th>\n",
       "      <th>scv</th>\n",
       "      <th>hv</th>\n",
       "      <th>svo_dist_norm</th>\n",
       "      <th>svo_dist_norm_disc5</th>\n",
       "      <th>svo_dist_norm_disc10</th>\n",
       "      <th>svo_dist_norm_disc20</th>\n",
       "      <th>sent_cleaned</th>\n",
       "      <th>tokens</th>\n",
       "      <th>sent_lemm</th>\n",
       "      <th>apv_idx</th>\n",
       "      <th>scv_idx</th>\n",
       "      <th>hv_idx</th>\n",
       "      <th>svo_dist_norm_disc5_idx</th>\n",
       "      <th>svo_dist_norm_disc20_idx</th>\n",
       "    </tr>\n",
       "  </thead>\n",
       "  <tbody>\n",
       "    <tr>\n",
       "      <th>0</th>\n",
       "      <td>0_66252-0-0-0</td>\n",
       "      <td>The Local Government Act 1985 was an Act of Pa...</td>\n",
       "      <td>11</td>\n",
       "      <td>1</td>\n",
       "      <td>1</td>\n",
       "      <td>1</td>\n",
       "      <td>0.733333</td>\n",
       "      <td>0.6</td>\n",
       "      <td>0.7</td>\n",
       "      <td>0.70</td>\n",
       "      <td>local government act act parliament united</td>\n",
       "      <td>['local', 'government', 'act', 'act', 'parliam...</td>\n",
       "      <td>local government act act parliament united</td>\n",
       "      <td>1</td>\n",
       "      <td>1</td>\n",
       "      <td>1</td>\n",
       "      <td>3</td>\n",
       "      <td>14</td>\n",
       "    </tr>\n",
       "    <tr>\n",
       "      <th>1</th>\n",
       "      <td>0_66252-0-0-1</td>\n",
       "      <td>Its main effect was to abolish the county coun...</td>\n",
       "      <td>31</td>\n",
       "      <td>0</td>\n",
       "      <td>0</td>\n",
       "      <td>1</td>\n",
       "      <td>0.775000</td>\n",
       "      <td>0.6</td>\n",
       "      <td>0.7</td>\n",
       "      <td>0.75</td>\n",
       "      <td>main effect abolish county councils metropolit...</td>\n",
       "      <td>['main', 'effect', 'abolish', 'county', 'counc...</td>\n",
       "      <td>main effect abolish county council metropolita...</td>\n",
       "      <td>0</td>\n",
       "      <td>0</td>\n",
       "      <td>1</td>\n",
       "      <td>3</td>\n",
       "      <td>15</td>\n",
       "    </tr>\n",
       "    <tr>\n",
       "      <th>2</th>\n",
       "      <td>0_66252-0-1-0</td>\n",
       "      <td>The main provision, section 1 stated that \"the...</td>\n",
       "      <td>12</td>\n",
       "      <td>1</td>\n",
       "      <td>2</td>\n",
       "      <td>1</td>\n",
       "      <td>0.480000</td>\n",
       "      <td>0.4</td>\n",
       "      <td>0.4</td>\n",
       "      <td>0.45</td>\n",
       "      <td>main section stated greater london metropolita...</td>\n",
       "      <td>['main', 'section', 'stated', 'greater', 'lond...</td>\n",
       "      <td>main section stated greater london metropolita...</td>\n",
       "      <td>1</td>\n",
       "      <td>2</td>\n",
       "      <td>1</td>\n",
       "      <td>2</td>\n",
       "      <td>9</td>\n",
       "    </tr>\n",
       "    <tr>\n",
       "      <th>3</th>\n",
       "      <td>0_66252-0-2-0</td>\n",
       "      <td>It came into effect on 1 April 1986.</td>\n",
       "      <td>6</td>\n",
       "      <td>1</td>\n",
       "      <td>1</td>\n",
       "      <td>1</td>\n",
       "      <td>0.666667</td>\n",
       "      <td>0.6</td>\n",
       "      <td>0.6</td>\n",
       "      <td>0.65</td>\n",
       "      <td>came effect april</td>\n",
       "      <td>['came', 'effect', 'april']</td>\n",
       "      <td>came effect april</td>\n",
       "      <td>1</td>\n",
       "      <td>1</td>\n",
       "      <td>1</td>\n",
       "      <td>3</td>\n",
       "      <td>13</td>\n",
       "    </tr>\n",
       "    <tr>\n",
       "      <th>4</th>\n",
       "      <td>0_66252-0-2-1</td>\n",
       "      <td>The metropolitan boroughs and London boroughs ...</td>\n",
       "      <td>16</td>\n",
       "      <td>1</td>\n",
       "      <td>1</td>\n",
       "      <td>1</td>\n",
       "      <td>0.695652</td>\n",
       "      <td>0.6</td>\n",
       "      <td>0.6</td>\n",
       "      <td>0.65</td>\n",
       "      <td>metropolitan boroughs london boroughs got powe...</td>\n",
       "      <td>['metropolitan', 'boroughs', 'london', 'boroug...</td>\n",
       "      <td>metropolitan borough london borough got power ...</td>\n",
       "      <td>1</td>\n",
       "      <td>1</td>\n",
       "      <td>1</td>\n",
       "      <td>3</td>\n",
       "      <td>13</td>\n",
       "    </tr>\n",
       "  </tbody>\n",
       "</table>\n",
       "</div>"
      ],
      "text/plain": [
       "      sent-index                                               sent  svo_dist  \\\n",
       "0  0_66252-0-0-0  The Local Government Act 1985 was an Act of Pa...        11   \n",
       "1  0_66252-0-0-1  Its main effect was to abolish the county coun...        31   \n",
       "2  0_66252-0-1-0  The main provision, section 1 stated that \"the...        12   \n",
       "3  0_66252-0-2-0               It came into effect on 1 April 1986.         6   \n",
       "4  0_66252-0-2-1  The metropolitan boroughs and London boroughs ...        16   \n",
       "\n",
       "   apv  scv  hv  svo_dist_norm  svo_dist_norm_disc5  svo_dist_norm_disc10  \\\n",
       "0    1    1   1       0.733333                  0.6                   0.7   \n",
       "1    0    0   1       0.775000                  0.6                   0.7   \n",
       "2    1    2   1       0.480000                  0.4                   0.4   \n",
       "3    1    1   1       0.666667                  0.6                   0.6   \n",
       "4    1    1   1       0.695652                  0.6                   0.6   \n",
       "\n",
       "   svo_dist_norm_disc20                                       sent_cleaned  \\\n",
       "0                  0.70         local government act act parliament united   \n",
       "1                  0.75  main effect abolish county councils metropolit...   \n",
       "2                  0.45  main section stated greater london metropolita...   \n",
       "3                  0.65                                  came effect april   \n",
       "4                  0.65  metropolitan boroughs london boroughs got powe...   \n",
       "\n",
       "                                              tokens  \\\n",
       "0  ['local', 'government', 'act', 'act', 'parliam...   \n",
       "1  ['main', 'effect', 'abolish', 'county', 'counc...   \n",
       "2  ['main', 'section', 'stated', 'greater', 'lond...   \n",
       "3                        ['came', 'effect', 'april']   \n",
       "4  ['metropolitan', 'boroughs', 'london', 'boroug...   \n",
       "\n",
       "                                           sent_lemm  apv_idx  scv_idx  \\\n",
       "0         local government act act parliament united        1        1   \n",
       "1  main effect abolish county council metropolita...        0        0   \n",
       "2  main section stated greater london metropolita...        1        2   \n",
       "3                                  came effect april        1        1   \n",
       "4  metropolitan borough london borough got power ...        1        1   \n",
       "\n",
       "   hv_idx  svo_dist_norm_disc5_idx  svo_dist_norm_disc20_idx  \n",
       "0       1                        3                        14  \n",
       "1       1                        3                        15  \n",
       "2       1                        2                         9  \n",
       "3       1                        3                        13  \n",
       "4       1                        3                        13  "
      ]
     },
     "execution_count": 23,
     "metadata": {},
     "output_type": "execute_result"
    }
   ],
   "source": [
    "# For classification tasks, transform labels into label indexes\n",
    "# Create y_dict which contains labels for each task\n",
    "labels_dict = {}\n",
    "label_counts_dict = {}\n",
    "y_dict = {}\n",
    "for label_col, task in zip(label_cols, tasks):\n",
    "    if task == \"classification\":\n",
    "        labels, label_idxs, label_counts = np.unique(\n",
    "            df[label_col], return_inverse=True, return_counts=True\n",
    "        )\n",
    "        labels_dict[label_col] = labels\n",
    "        label_counts_dict[label_col] = label_counts\n",
    "        df[f\"{label_col}_idx\"] = label_idxs\n",
    "        y_dict[label_col] = df[f\"{label_col}_idx\"].to_numpy()\n",
    "    else:\n",
    "        y_dict[label_col] = df[label_col].to_numpy()\n",
    "df.head()"
   ]
  },
  {
   "cell_type": "code",
   "execution_count": 24,
   "metadata": {},
   "outputs": [
    {
     "data": {
      "text/plain": [
       "{'svo_dist': array([11, 31, 12, ...,  3,  7,  9]),\n",
       " 'svo_dist_norm': array([0.73333333, 0.775     , 0.48      , ..., 0.21428571, 0.77777778,\n",
       "        0.47368421]),\n",
       " 'apv': array([1, 0, 1, ..., 1, 1, 1]),\n",
       " 'scv': array([1, 0, 2, ..., 1, 0, 2]),\n",
       " 'hv': array([1, 1, 1, ..., 1, 1, 1]),\n",
       " 'svo_dist_norm_disc5': array([3, 3, 2, ..., 1, 3, 2]),\n",
       " 'svo_dist_norm_disc20': array([14, 15,  9, ...,  4, 15,  9])}"
      ]
     },
     "execution_count": 24,
     "metadata": {},
     "output_type": "execute_result"
    }
   ],
   "source": [
    "y_dict"
   ]
  },
  {
   "cell_type": "code",
   "execution_count": 25,
   "metadata": {},
   "outputs": [
    {
     "data": {
      "text/plain": [
       "(31740, 29721)"
      ]
     },
     "execution_count": 25,
     "metadata": {},
     "output_type": "execute_result"
    }
   ],
   "source": [
    "# Fit and transform \n",
    "vectorizer = TfidfVectorizer()\n",
    "X = vectorizer.fit_transform(df[sent_col])\n",
    "X.shape"
   ]
  },
  {
   "cell_type": "code",
   "execution_count": 26,
   "metadata": {},
   "outputs": [],
   "source": [
    "# Test train validation split indices\n",
    "N = X.shape[0]\n",
    "indices = np.arange(N)\n",
    "\n",
    "dataset_splits = [0.7, 0.1, 0.2]\n",
    "dataset_splits_new = []\n",
    "for split in dataset_splits:\n",
    "    dataset_splits_new.append(int(split * N))\n",
    "if sum(dataset_splits_new) < N:\n",
    "    dataset_splits_new[-1] += N - sum(dataset_splits_new)\n",
    "train, val, test = random_split(\n",
    "    indices,\n",
    "    dataset_splits_new,\n",
    "    generator=torch.Generator().manual_seed(random_seed),\n",
    ")\n",
    "\n",
    "# Get test/train/val splits\n",
    "X_train = X[train.indices]\n",
    "X_val   = X[val.indices]\n",
    "X_test  = X[test.indices]\n",
    "for c in label_cols:\n",
    "    y_dict[f\"{c}_train\"] = y_dict[c][train.indices]\n",
    "    y_dict[f\"{c}_val\"] = y_dict[c][val.indices]\n",
    "    y_dict[f\"{c}_test\"] = y_dict[c][test.indices]"
   ]
  },
  {
   "cell_type": "markdown",
   "metadata": {},
   "source": [
    "# Fit Models for Every Task"
   ]
  },
  {
   "cell_type": "code",
   "execution_count": 27,
   "metadata": {},
   "outputs": [],
   "source": [
    "from sklearn.linear_model import LogisticRegression, Ridge, Lasso\n",
    "from sklearn.ensemble import RandomForestRegressor, RandomForestClassifier\n",
    "from sklearn.naive_bayes import MultinomialNB\n",
    "from sklearn.svm import NuSVR, LinearSVR, NuSVC, LinearSVC"
   ]
  },
  {
   "cell_type": "code",
   "execution_count": 28,
   "metadata": {},
   "outputs": [],
   "source": [
    "model_types = {\n",
    "    \"regression\": [Ridge, Lasso],\n",
    "    \"classification\": [LogisticRegression, MultinomialNB]\n",
    "}"
   ]
  },
  {
   "cell_type": "code",
   "execution_count": 29,
   "metadata": {},
   "outputs": [],
   "source": [
    "evaluations = {c: [] for c in label_cols}"
   ]
  },
  {
   "cell_type": "code",
   "execution_count": 30,
   "metadata": {},
   "outputs": [
    {
     "name": "stderr",
     "output_type": "stream",
     "text": [
      "INFO:root:svo_dist: Finished fitting and evaluating model Ridge\n",
      "INFO:root:svo_dist: Finished fitting and evaluating model Lasso\n",
      "INFO:root:svo_dist_norm: Finished fitting and evaluating model Ridge\n",
      "INFO:root:svo_dist_norm: Finished fitting and evaluating model Lasso\n",
      "/Users/patrickc410/miniconda3/envs/nlp_proj/lib/python3.7/site-packages/sklearn/linear_model/_logistic.py:818: ConvergenceWarning: lbfgs failed to converge (status=1):\n",
      "STOP: TOTAL NO. of ITERATIONS REACHED LIMIT.\n",
      "\n",
      "Increase the number of iterations (max_iter) or scale the data as shown in:\n",
      "    https://scikit-learn.org/stable/modules/preprocessing.html\n",
      "Please also refer to the documentation for alternative solver options:\n",
      "    https://scikit-learn.org/stable/modules/linear_model.html#logistic-regression\n",
      "  extra_warning_msg=_LOGISTIC_SOLVER_CONVERGENCE_MSG,\n",
      "INFO:root:apv: Finished fitting and evaluating model LogisticRegression\n",
      "/Users/patrickc410/miniconda3/envs/nlp_proj/lib/python3.7/site-packages/sklearn/metrics/_classification.py:1318: UndefinedMetricWarning: Precision is ill-defined and being set to 0.0 in labels with no predicted samples. Use `zero_division` parameter to control this behavior.\n",
      "  _warn_prf(average, modifier, msg_start, len(result))\n",
      "INFO:root:apv: Finished fitting and evaluating model MultinomialNB\n",
      "/Users/patrickc410/miniconda3/envs/nlp_proj/lib/python3.7/site-packages/sklearn/linear_model/_logistic.py:818: ConvergenceWarning: lbfgs failed to converge (status=1):\n",
      "STOP: TOTAL NO. of ITERATIONS REACHED LIMIT.\n",
      "\n",
      "Increase the number of iterations (max_iter) or scale the data as shown in:\n",
      "    https://scikit-learn.org/stable/modules/preprocessing.html\n",
      "Please also refer to the documentation for alternative solver options:\n",
      "    https://scikit-learn.org/stable/modules/linear_model.html#logistic-regression\n",
      "  extra_warning_msg=_LOGISTIC_SOLVER_CONVERGENCE_MSG,\n",
      "INFO:root:scv: Finished fitting and evaluating model LogisticRegression\n",
      "INFO:root:scv: Finished fitting and evaluating model MultinomialNB\n",
      "/Users/patrickc410/miniconda3/envs/nlp_proj/lib/python3.7/site-packages/sklearn/metrics/_classification.py:1318: UndefinedMetricWarning: Precision is ill-defined and being set to 0.0 in labels with no predicted samples. Use `zero_division` parameter to control this behavior.\n",
      "  _warn_prf(average, modifier, msg_start, len(result))\n",
      "INFO:root:hv: Finished fitting and evaluating model LogisticRegression\n",
      "/Users/patrickc410/miniconda3/envs/nlp_proj/lib/python3.7/site-packages/sklearn/metrics/_classification.py:1318: UndefinedMetricWarning: Precision is ill-defined and being set to 0.0 in labels with no predicted samples. Use `zero_division` parameter to control this behavior.\n",
      "  _warn_prf(average, modifier, msg_start, len(result))\n",
      "INFO:root:hv: Finished fitting and evaluating model MultinomialNB\n",
      "/Users/patrickc410/miniconda3/envs/nlp_proj/lib/python3.7/site-packages/sklearn/linear_model/_logistic.py:818: ConvergenceWarning: lbfgs failed to converge (status=1):\n",
      "STOP: TOTAL NO. of ITERATIONS REACHED LIMIT.\n",
      "\n",
      "Increase the number of iterations (max_iter) or scale the data as shown in:\n",
      "    https://scikit-learn.org/stable/modules/preprocessing.html\n",
      "Please also refer to the documentation for alternative solver options:\n",
      "    https://scikit-learn.org/stable/modules/linear_model.html#logistic-regression\n",
      "  extra_warning_msg=_LOGISTIC_SOLVER_CONVERGENCE_MSG,\n",
      "INFO:root:svo_dist_norm_disc5: Finished fitting and evaluating model LogisticRegression\n",
      "INFO:root:svo_dist_norm_disc5: Finished fitting and evaluating model MultinomialNB\n",
      "/Users/patrickc410/miniconda3/envs/nlp_proj/lib/python3.7/site-packages/sklearn/linear_model/_logistic.py:818: ConvergenceWarning: lbfgs failed to converge (status=1):\n",
      "STOP: TOTAL NO. of ITERATIONS REACHED LIMIT.\n",
      "\n",
      "Increase the number of iterations (max_iter) or scale the data as shown in:\n",
      "    https://scikit-learn.org/stable/modules/preprocessing.html\n",
      "Please also refer to the documentation for alternative solver options:\n",
      "    https://scikit-learn.org/stable/modules/linear_model.html#logistic-regression\n",
      "  extra_warning_msg=_LOGISTIC_SOLVER_CONVERGENCE_MSG,\n",
      "/Users/patrickc410/miniconda3/envs/nlp_proj/lib/python3.7/site-packages/sklearn/metrics/_classification.py:1318: UndefinedMetricWarning: Precision is ill-defined and being set to 0.0 in labels with no predicted samples. Use `zero_division` parameter to control this behavior.\n",
      "  _warn_prf(average, modifier, msg_start, len(result))\n",
      "INFO:root:svo_dist_norm_disc20: Finished fitting and evaluating model LogisticRegression\n",
      "/Users/patrickc410/miniconda3/envs/nlp_proj/lib/python3.7/site-packages/sklearn/metrics/_classification.py:1318: UndefinedMetricWarning: Precision is ill-defined and being set to 0.0 in labels with no predicted samples. Use `zero_division` parameter to control this behavior.\n",
      "  _warn_prf(average, modifier, msg_start, len(result))\n",
      "INFO:root:svo_dist_norm_disc20: Finished fitting and evaluating model MultinomialNB\n"
     ]
    }
   ],
   "source": [
    "for c, task, classes in zip(label_cols, tasks, num_classes_list):\n",
    "    if len(evaluations[c]) == 0:\n",
    "        for model_type in model_types[task]:\n",
    "            model = model_type()\n",
    "            model.fit(X_train, y_dict[f\"{c}_train\"])\n",
    "            preds = model.predict(X_test)\n",
    "            y_true = y_dict[f\"{c}_test\"]\n",
    "            evaluation = {}\n",
    "            if task == \"classification\":\n",
    "                evaluation[\"acc\"] = accuracy_score(y_true, preds)\n",
    "                evaluation[\"f1\"] = f1_score(y_true, preds, average=\"macro\")\n",
    "                evaluation[\"recall\"] = recall_score(y_true, preds, average=\"macro\")\n",
    "                evaluation[\"precision\"] = precision_score(y_true, preds, average=\"macro\")\n",
    "            elif task == \"regression\":\n",
    "                evaluation[\"mae\"] = mean_absolute_error(y_true, preds)\n",
    "                evaluation[\"mse\"] = mean_squared_error(y_true, preds)\n",
    "                evaluation[\"r2\"] = r2_score(y_true, preds)\n",
    "            evaluation[\"model_type\"] = str(model_type.__name__)\n",
    "            evaluations[c].append(evaluation)\n",
    "            logging.info(f\"{c}: Finished fitting and evaluating model {evaluation['model_type']}\")\n"
   ]
  },
  {
   "cell_type": "code",
   "execution_count": 31,
   "metadata": {},
   "outputs": [],
   "source": [
    "# Save evaluations\n",
    "with open(\"classical_models_results_no_lemm.json\", \"w\") as f:\n",
    "    json.dump(evaluations, f)"
   ]
  },
  {
   "cell_type": "code",
   "execution_count": 140,
   "metadata": {},
   "outputs": [
    {
     "data": {
      "text/plain": [
       "{'svo_dist': [{'mae': 5.539791189799215,\n",
       "   'mse': 57.452224549314,\n",
       "   'r2': 0.3458949949638701,\n",
       "   'model_type': 'Ridge'},\n",
       "  {'mae': 7.079751083707794,\n",
       "   'mse': 87.88682458295216,\n",
       "   'r2': -0.0006089805469127185,\n",
       "   'model_type': 'Lasso'},\n",
       "  {'mae': 4.7401932849234365,\n",
       "   'mse': 46.16138091478833,\n",
       "   'r2': 0.47444349574619105,\n",
       "   'model_type': 'RandomForestRegressor'},\n",
       "  {'mae': 6.511488479100013,\n",
       "   'mse': 79.82142369907717,\n",
       "   'r2': 0.09121721290599949,\n",
       "   'model_type': 'NuSVR'},\n",
       "  {'mae': 6.02585743573881,\n",
       "   'mse': 72.36512127933571,\n",
       "   'r2': 0.17610869918134042,\n",
       "   'model_type': 'LinearSVR'}],\n",
       " 'svo_dist_norm': [{'mae': 0.17127762933384266,\n",
       "   'mse': 0.04441867410703712,\n",
       "   'r2': 0.09235785949094844,\n",
       "   'model_type': 'Ridge'},\n",
       "  {'mae': 0.18203426688062738,\n",
       "   'mse': 0.04899943039772114,\n",
       "   'r2': -0.00124438164771834,\n",
       "   'model_type': 'Lasso'},\n",
       "  {'mae': 0.17036173972273436,\n",
       "   'mse': 0.04538876521003902,\n",
       "   'r2': 0.07253521545849317,\n",
       "   'model_type': 'RandomForestRegressor'},\n",
       "  {'mae': 0.1668564358810095,\n",
       "   'mse': 0.04295643531051154,\n",
       "   'r2': 0.1222369492633194,\n",
       "   'model_type': 'NuSVR'},\n",
       "  {'mae': 0.1943171981055327,\n",
       "   'mse': 0.05930978014510437,\n",
       "   'r2': -0.2119239686061527,\n",
       "   'model_type': 'LinearSVR'}],\n",
       " 'apv': [{'acc': 0.6994328922495274,\n",
       "   'f1': 0.4139024169645906,\n",
       "   'recall': 0.4139365749406317,\n",
       "   'precision': 0.5550317973729185,\n",
       "   'model_type': 'LogisticRegression'}],\n",
       " 'scv': [],\n",
       " 'hv': [],\n",
       " 'svo_dist_norm_disc5': [],\n",
       " 'svo_dist_norm_disc20': []}"
      ]
     },
     "execution_count": 140,
     "metadata": {},
     "output_type": "execute_result"
    }
   ],
   "source": [
    "evaluations"
   ]
  },
  {
   "cell_type": "markdown",
   "metadata": {},
   "source": [
    "# Task 1"
   ]
  },
  {
   "cell_type": "code",
   "execution_count": 48,
   "metadata": {},
   "outputs": [
    {
     "data": {
      "text/plain": [
       "LogisticRegression()"
      ]
     },
     "execution_count": 48,
     "metadata": {},
     "output_type": "execute_result"
    }
   ],
   "source": [
    "c = label_cols[1]\n",
    "task = tasks[1]\n",
    "model = LogisticRegression()\n",
    "model.fit(X_train, y_dict[f\"{c}_train\"])"
   ]
  },
  {
   "cell_type": "code",
   "execution_count": 72,
   "metadata": {},
   "outputs": [
    {
     "data": {
      "text/plain": [
       "{'mae': 0.2611984323456243,\n",
       " 'mse': 0.10420230504813305,\n",
       " 'r2': -0.2699740400238033}"
      ]
     },
     "execution_count": 72,
     "metadata": {},
     "output_type": "execute_result"
    }
   ],
   "source": [
    "preds = model.predict(X_test)\n",
    "y_true = y_dict[f\"{c}_test\"]\n",
    "\n",
    "evaluation = {}\n",
    "if task == \"classification\":\n",
    "    evaluation[\"acc\"] = accuracy_score(y_true, preds)\n",
    "    evaluation[\"f1\"] = f1_score(y_true, preds)\n",
    "elif task == \"regression\":\n",
    "    evaluation[\"mae\"] = mean_absolute_error(y_true, preds)\n",
    "    evaluation[\"mse\"] = mean_squared_error(y_true, preds)\n",
    "    evaluation[\"r2\"] = r2_score(y_true, preds)\n",
    "evaluation\n"
   ]
  },
  {
   "cell_type": "code",
   "execution_count": 63,
   "metadata": {},
   "outputs": [
    {
     "data": {
      "text/plain": [
       "<AxesSubplot:>"
      ]
     },
     "execution_count": 63,
     "metadata": {},
     "output_type": "execute_result"
    },
    {
     "data": {
      "image/png": "[encoded data removed]",
      "text/plain": [
       "<Figure size 640x480 with 2 Axes>"
      ]
     },
     "metadata": {},
     "output_type": "display_data"
    }
   ],
   "source": [
    "preds = model.predict(X_test)\n",
    "conf = confusion_matrix(y_dict[f\"{c}_test\"], preds)\n",
    "df_fig = pd.DataFrame(conf, index=labels_dict[c], columns=labels_dict[c])\n",
    "sns.heatmap(df_fig, annot=True)"
   ]
  },
  {
   "cell_type": "code",
   "execution_count": 1,
   "metadata": {},
   "outputs": [],
   "source": [
    "import pandas as pd\n",
    "import seaborn as sns"
   ]
  },
  {
   "cell_type": "code",
   "execution_count": 3,
   "metadata": {},
   "outputs": [
    {
     "data": {
      "text/html": [
       "<div>\n",
       "<style scoped>\n",
       "    .dataframe tbody tr th:only-of-type {\n",
       "        vertical-align: middle;\n",
       "    }\n",
       "\n",
       "    .dataframe tbody tr th {\n",
       "        vertical-align: top;\n",
       "    }\n",
       "\n",
       "    .dataframe thead th {\n",
       "        text-align: right;\n",
       "    }\n",
       "</style>\n",
       "<table border=\"1\" class=\"dataframe\">\n",
       "  <thead>\n",
       "    <tr style=\"text-align: right;\">\n",
       "      <th></th>\n",
       "      <th>hidden verb(s)</th>\n",
       "      <th>no hidden verbs</th>\n",
       "      <th>both</th>\n",
       "    </tr>\n",
       "  </thead>\n",
       "  <tbody>\n",
       "    <tr>\n",
       "      <th>hidden verb(s)</th>\n",
       "      <td>0</td>\n",
       "      <td>104</td>\n",
       "      <td>0</td>\n",
       "    </tr>\n",
       "    <tr>\n",
       "      <th>no hidden verbs</th>\n",
       "      <td>0</td>\n",
       "      <td>5932</td>\n",
       "      <td>0</td>\n",
       "    </tr>\n",
       "    <tr>\n",
       "      <th>both</th>\n",
       "      <td>0</td>\n",
       "      <td>345</td>\n",
       "      <td>0</td>\n",
       "    </tr>\n",
       "  </tbody>\n",
       "</table>\n",
       "</div>"
      ],
      "text/plain": [
       "                 hidden verb(s)  no hidden verbs  both\n",
       "hidden verb(s)                0              104     0\n",
       "no hidden verbs               0             5932     0\n",
       "both                          0              345     0"
      ]
     },
     "execution_count": 3,
     "metadata": {},
     "output_type": "execute_result"
    }
   ],
   "source": [
    "# sns.heatmap(df_fig, annot=True)\n",
    "\n",
    "_index = [\"hidden verb(s)\", \"no hidden verbs\", \"both\"]\n",
    "_cols = [i for i in _index]\n",
    "_data = [\n",
    "    [   0,  104,    0],\n",
    "    [   0, 5932,    0],\n",
    "    [   0,  345,    0],\n",
    "]\n",
    "df_fig = pd.DataFrame(_data, columns=_cols, index=_index)\n",
    "df_fig\n",
    "\n"
   ]
  },
  {
   "cell_type": "code",
   "execution_count": 5,
   "metadata": {},
   "outputs": [
    {
     "data": {
      "text/html": [
       "<style type=\"text/css\">\n",
       "#T_13f4e_row0_col0, #T_13f4e_row0_col1, #T_13f4e_row0_col2, #T_13f4e_row1_col0, #T_13f4e_row1_col2, #T_13f4e_row2_col0, #T_13f4e_row2_col2 {\n",
       "  background-color: #440154;\n",
       "  color: #f1f1f1;\n",
       "  font-size: 20px;\n",
       "}\n",
       "#T_13f4e_row1_col1 {\n",
       "  background-color: #fde725;\n",
       "  color: #000000;\n",
       "  font-size: 20px;\n",
       "}\n",
       "#T_13f4e_row2_col1 {\n",
       "  background-color: #471063;\n",
       "  color: #f1f1f1;\n",
       "  font-size: 20px;\n",
       "}\n",
       "</style>\n",
       "<table id=\"T_13f4e_\">\n",
       "  <thead>\n",
       "    <tr>\n",
       "      <th class=\"blank level0\" >&nbsp;</th>\n",
       "      <th class=\"col_heading level0 col0\" >hidden verb(s)</th>\n",
       "      <th class=\"col_heading level0 col1\" >no hidden verbs</th>\n",
       "      <th class=\"col_heading level0 col2\" >both</th>\n",
       "    </tr>\n",
       "  </thead>\n",
       "  <tbody>\n",
       "    <tr>\n",
       "      <th id=\"T_13f4e_level0_row0\" class=\"row_heading level0 row0\" >hidden verb(s)</th>\n",
       "      <td id=\"T_13f4e_row0_col0\" class=\"data row0 col0\" >0</td>\n",
       "      <td id=\"T_13f4e_row0_col1\" class=\"data row0 col1\" >104</td>\n",
       "      <td id=\"T_13f4e_row0_col2\" class=\"data row0 col2\" >0</td>\n",
       "    </tr>\n",
       "    <tr>\n",
       "      <th id=\"T_13f4e_level0_row1\" class=\"row_heading level0 row1\" >no hidden verbs</th>\n",
       "      <td id=\"T_13f4e_row1_col0\" class=\"data row1 col0\" >0</td>\n",
       "      <td id=\"T_13f4e_row1_col1\" class=\"data row1 col1\" >5932</td>\n",
       "      <td id=\"T_13f4e_row1_col2\" class=\"data row1 col2\" >0</td>\n",
       "    </tr>\n",
       "    <tr>\n",
       "      <th id=\"T_13f4e_level0_row2\" class=\"row_heading level0 row2\" >both</th>\n",
       "      <td id=\"T_13f4e_row2_col0\" class=\"data row2 col0\" >0</td>\n",
       "      <td id=\"T_13f4e_row2_col1\" class=\"data row2 col1\" >345</td>\n",
       "      <td id=\"T_13f4e_row2_col2\" class=\"data row2 col2\" >0</td>\n",
       "    </tr>\n",
       "  </tbody>\n",
       "</table>\n"
      ],
      "text/plain": [
       "<pandas.io.formats.style.Styler at 0x7f80b15d3750>"
      ]
     },
     "execution_count": 5,
     "metadata": {},
     "output_type": "execute_result"
    }
   ],
   "source": [
    "df_fig.style.background_gradient(cmap ='viridis')\\\n",
    "        .set_properties(**{'font-size': '20px'})"
   ]
  },
  {
   "cell_type": "code",
   "execution_count": 4,
   "metadata": {},
   "outputs": [
    {
     "data": {
      "text/plain": [
       "<AxesSubplot:>"
      ]
     },
     "execution_count": 4,
     "metadata": {},
     "output_type": "execute_result"
    },
    {
     "data": {
      "image/png": "[encoded data removed]",
      "text/plain": [
       "<Figure size 640x480 with 2 Axes>"
      ]
     },
     "metadata": {},
     "output_type": "display_data"
    }
   ],
   "source": [
    "sns.heatmap(df_fig, annot=True)"
   ]
  },
  {
   "cell_type": "code",
   "execution_count": null,
   "metadata": {},
   "outputs": [],
   "source": []
  }
 ],
 "metadata": {
  "kernelspec": {
   "display_name": "Python 3.7.15 ('nlp_proj')",
   "language": "python",
   "name": "python3"
  },
  "language_info": {
   "codemirror_mode": {
    "name": "ipython",
    "version": 3
   },
   "file_extension": ".py",
   "mimetype": "text/x-python",
   "name": "python",
   "nbconvert_exporter": "python",
   "pygments_lexer": "ipython3",
   "version": "3.7.15"
  },
  "orig_nbformat": 4,
  "vscode": {
   "interpreter": {
    "hash": "8c54de2f1809d1c1d9488af1523ad647b2d967d8971406914ca7e9a142ea78ae"
   }
  }
 },
 "nbformat": 4,
 "nbformat_minor": 2
}
